{
 "cells": [
  {
   "cell_type": "code",
   "execution_count": 1,
   "metadata": {},
   "outputs": [
    {
     "name": "stderr",
     "output_type": "stream",
     "text": [
      "d:\\anacoda\\envs\\lightrag\\lib\\site-packages\\tqdm\\auto.py:21: TqdmWarning: IProgress not found. Please update jupyter and ipywidgets. See https://ipywidgets.readthedocs.io/en/stable/user_install.html\n",
      "  from .autonotebook import tqdm as notebook_tqdm\n",
      "INFO:lightrag:Load KV json_doc_status_storage with 0 data\n",
      "INFO:lightrag:Load KV llm_response_cache with 0 data\n",
      "INFO:lightrag:Load KV full_docs with 1 data\n",
      "INFO:lightrag:Load KV text_chunks with 1646 data\n",
      "INFO:lightrag:Loaded graph from C:\\Users\\Terry_Xu\\Desktop\\LightRAG_musique\\graph_chunk_entity_relation.graphml with 41413 nodes, 16696 edges\n",
      "INFO:nano-vectordb:Load (38948, 1536) data\n",
      "INFO:nano-vectordb:Init {'embedding_dim': 1536, 'metric': 'cosine', 'storage_file': 'C:\\\\Users\\\\Terry_Xu\\\\Desktop\\\\LightRAG_musique\\\\vdb_entities.json'} 38948 data\n",
      "INFO:nano-vectordb:Load (16696, 1536) data\n",
      "INFO:nano-vectordb:Init {'embedding_dim': 1536, 'metric': 'cosine', 'storage_file': 'C:\\\\Users\\\\Terry_Xu\\\\Desktop\\\\LightRAG_musique\\\\vdb_relationships.json'} 16696 data\n",
      "INFO:nano-vectordb:Load (1646, 1536) data\n",
      "INFO:nano-vectordb:Init {'embedding_dim': 1536, 'metric': 'cosine', 'storage_file': 'C:\\\\Users\\\\Terry_Xu\\\\Desktop\\\\LightRAG_musique\\\\vdb_chunks.json'} 1646 data\n",
      "INFO:lightrag:Loaded document status storage with 1 records\n"
     ]
    }
   ],
   "source": [
    "import os\n",
    "from lightrag import LightRAG, QueryParam\n",
    "from lightrag.llm import gpt_4o_mini_complete, gpt_4o_complete\n",
    "\n",
    "#########\n",
    "# Uncomment the below two lines if running in a jupyter notebook to handle the async nature of rag.insert()\n",
    "# import nest_asyncio\n",
    "# nest_asyncio.apply()\n",
    "#########\n",
    "\n",
    "WORKING_DIR = r\"C:\\Users\\Terry_Xu\\Desktop\\LightRAG_musique\"\n",
    "\n",
    "\n",
    "if not os.path.exists(WORKING_DIR):\n",
    "    os.mkdir(WORKING_DIR)\n",
    "\n",
    "rag = LightRAG(\n",
    "    working_dir=WORKING_DIR,\n",
    "    llm_model_func=gpt_4o_mini_complete  # Use gpt_4o_mini_complete LLM model\n",
    "    # llm_model_func=gpt_4o_complete  # Optionally, use a stronger model\n",
    ")"
   ]
  },
  {
   "cell_type": "code",
   "execution_count": 5,
   "metadata": {},
   "outputs": [],
   "source": [
    "import nest_asyncio\n",
    "nest_asyncio.apply()\n",
    "import tiktoken\n",
    "def count_tokens(text: str, model: str = \"gpt-4\") -> int:\n",
    "    \"\"\"\n",
    "    Count the number of tokens in a text string using tiktoken\n",
    "    \n",
    "    Args:\n",
    "        text (str): The text to count tokens for\n",
    "        model (str): The model to use for tokenization (default: \"gpt-4\")\n",
    "        \n",
    "    Returns:\n",
    "        int: Number of tokens in the text\n",
    "    \"\"\"\n",
    "    try:\n",
    "        encoding = tiktoken.encoding_for_model(model)\n",
    "    except KeyError:\n",
    "        # Fallback to cl100k_base encoding if model not found\n",
    "        encoding = tiktoken.get_encoding(\"cl100k_base\")\n",
    "        \n",
    "    tokens = encoding.encode(text)\n",
    "    return len(tokens)"
   ]
  },
  {
   "cell_type": "code",
   "execution_count": 3,
   "metadata": {},
   "outputs": [
    {
     "name": "stderr",
     "output_type": "stream",
     "text": [
      "INFO:lightrag:kw_prompt result:\n",
      "INFO:lightrag:Using hybrid mode for query processing\n"
     ]
    },
    {
     "name": "stdout",
     "output_type": "stream",
     "text": [
      "{\n",
      "  \"high_level_keywords\": [\"Themes\", \"Story analysis\", \"Literary elements\"],\n",
      "  \"low_level_keywords\": [\"Character development\", \"Conflict\", \"Symbolism\", \"Motif\", \"Narrative structure\"]\n",
      "}\n"
     ]
    },
    {
     "name": "stderr",
     "output_type": "stream",
     "text": [
      "INFO:lightrag:Local query uses 20 entites, 1 relations, 1 text units\n",
      "INFO:lightrag:Global query uses 40 entites, 20 relations, 1 text units\n"
     ]
    },
    {
     "name": "stdout",
     "output_type": "stream",
     "text": [
      "The retrieved context contains references to various stories and themes, but without specifying a particular story, I can provide an overview of prominent themes found in several narratives mentioned in the context.\n",
      "\n",
      "1. **Cultural Struggles and Gender Dynamics**: In \"Kithaab,\" the struggle of a Muslim girl for agency in a patriarchal setting illustrates the tensions around gender roles and cultural expectations.\n",
      "\n",
      "2. **Identity and Transformation**: Both \"The Velveteen Rabbit\" and the thematic exploration in \"The Thing\" and \"The Things They Carried\" delve into how identity is shaped by personal experiences and the conflicts individuals endure, reflecting on transformation through relationships and crises.\n",
      "\n",
      "3. **Deception and Societal Expectations**: \"Gone Girl\" explores themes of deception within marriage and the societal pressures that influence personal relationships, highlighting how appearances can be misleading.\n",
      "\n",
      "4. **Family Dynamics and Personal Struggles**: In works like \"Flesh and Bone\" and \"The Gravedigger's Daughter,\" the complexities of family relationships and the personal struggles of individuals are central themes, showcasing how these dynamics shape one's identity and choices.\n",
      "\n",
      "5. **Heroism and Nationalism**: \"The Song of Roland\" addresses themes of heroism and nationalism, reflecting cultural narratives that center around historical events and their impacts on identity.\n",
      "\n",
      "6. **Friendship and Moral Character**: Films like \"A River Runs Through It\" resonate themes regarding the importance of friendships, family ties, and moral character, particularly in challenging settings.\n",
      "\n",
      "These themes reflect a broad array of human experiences and societal reflections, making them potent in exploring the narratives across different genres and mediums. Depending on the specific story or work you are interested in, these themes may manifest differently or take precedence in various contexts.\n",
      "6548\n"
     ]
    }
   ],
   "source": [
    "context,retrieval_context=rag.query(\"What are the top themes in this story?\", param=QueryParam(mode=\"hybrid\",with_retrieval_context=True))\n",
    "print(context)\n",
    "print(count_tokens(retrieval_context))\n"
   ]
  }
 ],
 "metadata": {
  "kernelspec": {
   "display_name": "base",
   "language": "python",
   "name": "python3"
  },
  "language_info": {
   "codemirror_mode": {
    "name": "ipython",
    "version": 3
   },
   "file_extension": ".py",
   "mimetype": "text/x-python",
   "name": "python",
   "nbconvert_exporter": "python",
   "pygments_lexer": "ipython3",
   "version": "3.10.16"
  }
 },
 "nbformat": 4,
 "nbformat_minor": 2
}
